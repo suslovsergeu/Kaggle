{
 "cells": [
  {
   "cell_type": "markdown",
   "id": "688636d9",
   "metadata": {
    "toc": true
   },
   "source": [
    "<h1>Table of Contents<span class=\"tocSkip\"></span></h1>\n",
    "<div class=\"toc\"><ul class=\"toc-item\"><li><span><a href=\"#Первичный-анализ-данных\" data-toc-modified-id=\"Первичный-анализ-данных-1\"><span class=\"toc-item-num\">1&nbsp;&nbsp;</span>Первичный анализ данных</a></span></li><li><span><a href=\"#Исследовательский-анализ-данных\" data-toc-modified-id=\"Исследовательский-анализ-данных-2\"><span class=\"toc-item-num\">2&nbsp;&nbsp;</span>Исследовательский анализ данных</a></span></li><li><span><a href=\"#Подбор-модели\" data-toc-modified-id=\"Подбор-модели-3\"><span class=\"toc-item-num\">3&nbsp;&nbsp;</span>Подбор модели</a></span></li><li><span><a href=\"#Тест-модели\" data-toc-modified-id=\"Тест-модели-4\"><span class=\"toc-item-num\">4&nbsp;&nbsp;</span>Тест модели</a></span></li></ul></div>"
   ]
  },
  {
   "cell_type": "code",
   "execution_count": 1037,
   "id": "07518f38",
   "metadata": {},
   "outputs": [],
   "source": [
    "#import libraries\n",
    "import pandas as pd\n",
    "import numpy as np\n",
    "import warnings\n",
    "warnings.filterwarnings('ignore')\n",
    "\n",
    "from scipy.stats import norm\n",
    "import seaborn as sns\n",
    "import matplotlib.pyplot as plt\n",
    "\n",
    "from sklearn.model_selection import cross_val_score, train_test_split\n",
    "from sklearn.linear_model import LinearRegression, Ridge, Lasso\n",
    "from sklearn.metrics import mean_squared_error, r2_score\n",
    "from catboost import CatBoostRegressor, Pool, cv"
   ]
  },
  {
   "cell_type": "markdown",
   "id": "8de76ac3",
   "metadata": {},
   "source": [
    "## Первичный анализ данных"
   ]
  },
  {
   "cell_type": "code",
   "execution_count": 1038,
   "id": "4b1ddc2f",
   "metadata": {},
   "outputs": [],
   "source": [
    "#import data\n",
    "df_train = pd.read_csv('datasets/train.csv')\n",
    "df_train.index = df_train['Id']\n",
    "df_test = pd.read_csv('datasets/test.csv')\n",
    "df_test.index = df_test['Id']"
   ]
  },
  {
   "cell_type": "code",
   "execution_count": 1039,
   "id": "e3d661a8",
   "metadata": {},
   "outputs": [
    {
     "name": "stdout",
     "output_type": "stream",
     "text": [
      "<class 'pandas.core.frame.DataFrame'>\n",
      "Int64Index: 1460 entries, 1 to 1460\n",
      "Data columns (total 81 columns):\n",
      " #   Column         Non-Null Count  Dtype  \n",
      "---  ------         --------------  -----  \n",
      " 0   Id             1460 non-null   int64  \n",
      " 1   MSSubClass     1460 non-null   int64  \n",
      " 2   MSZoning       1460 non-null   object \n",
      " 3   LotFrontage    1201 non-null   float64\n",
      " 4   LotArea        1460 non-null   int64  \n",
      " 5   Street         1460 non-null   object \n",
      " 6   Alley          91 non-null     object \n",
      " 7   LotShape       1460 non-null   object \n",
      " 8   LandContour    1460 non-null   object \n",
      " 9   Utilities      1460 non-null   object \n",
      " 10  LotConfig      1460 non-null   object \n",
      " 11  LandSlope      1460 non-null   object \n",
      " 12  Neighborhood   1460 non-null   object \n",
      " 13  Condition1     1460 non-null   object \n",
      " 14  Condition2     1460 non-null   object \n",
      " 15  BldgType       1460 non-null   object \n",
      " 16  HouseStyle     1460 non-null   object \n",
      " 17  OverallQual    1460 non-null   int64  \n",
      " 18  OverallCond    1460 non-null   int64  \n",
      " 19  YearBuilt      1460 non-null   int64  \n",
      " 20  YearRemodAdd   1460 non-null   int64  \n",
      " 21  RoofStyle      1460 non-null   object \n",
      " 22  RoofMatl       1460 non-null   object \n",
      " 23  Exterior1st    1460 non-null   object \n",
      " 24  Exterior2nd    1460 non-null   object \n",
      " 25  MasVnrType     1452 non-null   object \n",
      " 26  MasVnrArea     1452 non-null   float64\n",
      " 27  ExterQual      1460 non-null   object \n",
      " 28  ExterCond      1460 non-null   object \n",
      " 29  Foundation     1460 non-null   object \n",
      " 30  BsmtQual       1423 non-null   object \n",
      " 31  BsmtCond       1423 non-null   object \n",
      " 32  BsmtExposure   1422 non-null   object \n",
      " 33  BsmtFinType1   1423 non-null   object \n",
      " 34  BsmtFinSF1     1460 non-null   int64  \n",
      " 35  BsmtFinType2   1422 non-null   object \n",
      " 36  BsmtFinSF2     1460 non-null   int64  \n",
      " 37  BsmtUnfSF      1460 non-null   int64  \n",
      " 38  TotalBsmtSF    1460 non-null   int64  \n",
      " 39  Heating        1460 non-null   object \n",
      " 40  HeatingQC      1460 non-null   object \n",
      " 41  CentralAir     1460 non-null   object \n",
      " 42  Electrical     1459 non-null   object \n",
      " 43  1stFlrSF       1460 non-null   int64  \n",
      " 44  2ndFlrSF       1460 non-null   int64  \n",
      " 45  LowQualFinSF   1460 non-null   int64  \n",
      " 46  GrLivArea      1460 non-null   int64  \n",
      " 47  BsmtFullBath   1460 non-null   int64  \n",
      " 48  BsmtHalfBath   1460 non-null   int64  \n",
      " 49  FullBath       1460 non-null   int64  \n",
      " 50  HalfBath       1460 non-null   int64  \n",
      " 51  BedroomAbvGr   1460 non-null   int64  \n",
      " 52  KitchenAbvGr   1460 non-null   int64  \n",
      " 53  KitchenQual    1460 non-null   object \n",
      " 54  TotRmsAbvGrd   1460 non-null   int64  \n",
      " 55  Functional     1460 non-null   object \n",
      " 56  Fireplaces     1460 non-null   int64  \n",
      " 57  FireplaceQu    770 non-null    object \n",
      " 58  GarageType     1379 non-null   object \n",
      " 59  GarageYrBlt    1379 non-null   float64\n",
      " 60  GarageFinish   1379 non-null   object \n",
      " 61  GarageCars     1460 non-null   int64  \n",
      " 62  GarageArea     1460 non-null   int64  \n",
      " 63  GarageQual     1379 non-null   object \n",
      " 64  GarageCond     1379 non-null   object \n",
      " 65  PavedDrive     1460 non-null   object \n",
      " 66  WoodDeckSF     1460 non-null   int64  \n",
      " 67  OpenPorchSF    1460 non-null   int64  \n",
      " 68  EnclosedPorch  1460 non-null   int64  \n",
      " 69  3SsnPorch      1460 non-null   int64  \n",
      " 70  ScreenPorch    1460 non-null   int64  \n",
      " 71  PoolArea       1460 non-null   int64  \n",
      " 72  PoolQC         7 non-null      object \n",
      " 73  Fence          281 non-null    object \n",
      " 74  MiscFeature    54 non-null     object \n",
      " 75  MiscVal        1460 non-null   int64  \n",
      " 76  MoSold         1460 non-null   int64  \n",
      " 77  YrSold         1460 non-null   int64  \n",
      " 78  SaleType       1460 non-null   object \n",
      " 79  SaleCondition  1460 non-null   object \n",
      " 80  SalePrice      1460 non-null   int64  \n",
      "dtypes: float64(3), int64(35), object(43)\n",
      "memory usage: 935.3+ KB\n"
     ]
    }
   ],
   "source": [
    "df_train.info()"
   ]
  },
  {
   "cell_type": "markdown",
   "id": "56ba7819",
   "metadata": {},
   "source": [
    "В датасете очень много признаков, что потенциально может привести к переобучению. Дальнейший план EDA:   \n",
    "1. Удалить признаки с долей пропусков более 15%\n",
    "2. Оставить топ признаков по уровню корреляции с целевой переменной\n",
    "3. Удалить признаки с высокой кросс-корреляцией\n",
    "4. Обработать пропуски"
   ]
  },
  {
   "cell_type": "markdown",
   "id": "aa98a350",
   "metadata": {},
   "source": [
    "**Признаки с высокой долей пропусков**"
   ]
  },
  {
   "cell_type": "code",
   "execution_count": 1040,
   "id": "03f973dd",
   "metadata": {},
   "outputs": [
    {
     "data": {
      "text/plain": [
       "['FireplaceQu', 'PoolQC', 'Fence', 'LotFrontage', 'MiscFeature', 'Alley']"
      ]
     },
     "execution_count": 1040,
     "metadata": {},
     "output_type": "execute_result"
    }
   ],
   "source": [
    "null_bench = 0.15\n",
    "null_train = df_train.isnull().sum() / len(df_train) \n",
    "null_train = list(null_train[null_train >= null_bench].index)\n",
    "\n",
    "null_test = df_test.isnull().sum() / len(df_test) \n",
    "null_test = list(null_test[null_test >= null_bench].index)\n",
    "\n",
    "null_train.extend(null_test)\n",
    "null = list(set(null_train))\n",
    "null"
   ]
  },
  {
   "cell_type": "code",
   "execution_count": 1041,
   "id": "76335d63",
   "metadata": {},
   "outputs": [],
   "source": [
    "#delete columns with high share of null\n",
    "df_train = df_train.drop(null, axis=1)\n",
    "df_test = df_test.drop(null, axis=1)"
   ]
  },
  {
   "cell_type": "markdown",
   "id": "69f02f8f",
   "metadata": {},
   "source": [
    "**Анализ корреляции**"
   ]
  },
  {
   "cell_type": "code",
   "execution_count": 1042,
   "id": "8a61cc13",
   "metadata": {},
   "outputs": [
    {
     "data": {
      "text/plain": [
       "SalePrice         1.000000\n",
       "OverallQual       0.783546\n",
       "GrLivArea         0.711706\n",
       "GarageCars        0.640154\n",
       "GarageArea        0.607535\n",
       "1stFlrSF          0.604714\n",
       "TotalBsmtSF       0.602042\n",
       "ExterQual_TA      0.585107\n",
       "FullBath          0.569313\n",
       "TotRmsAbvGrd      0.551821\n",
       "KitchenQual_TA    0.524120\n",
       "Name: SalePrice, dtype: float64"
      ]
     },
     "execution_count": 1042,
     "metadata": {},
     "output_type": "execute_result"
    }
   ],
   "source": [
    "df_train_corr = pd.get_dummies(df_train.dropna(), drop_first=True)\n",
    "corr = np.abs(df_train_corr.corr()['SalePrice']).sort_values(ascending=False)\n",
    "corr.head(11)"
   ]
  },
  {
   "cell_type": "code",
   "execution_count": 1043,
   "id": "39c72cf0",
   "metadata": {},
   "outputs": [
    {
     "data": {
      "text/plain": [
       "[['GrLivArea', 'TotRmsAbvGrd'],\n",
       " ['GarageCars', 'GarageArea'],\n",
       " ['1stFlrSF', 'TotalBsmtSF']]"
      ]
     },
     "execution_count": 1043,
     "metadata": {},
     "output_type": "execute_result"
    }
   ],
   "source": [
    "corr_with_target_bench = 0.5\n",
    "corr_across_bench = 0.7\n",
    "\n",
    "column_set = list(corr[(corr >= corr_with_target_bench) & (corr != 1)].index)\n",
    "cm = np.abs(df_train_corr[column_set].corr())\n",
    "ls = []\n",
    "\n",
    "for i in cm.columns:\n",
    "    for j in cm.columns:\n",
    "        if (cm.loc[i, j] >= corr_across_bench) and (cm.loc[i, j] != 1) and ([i, j] not in ls) and ([j, i] not in ls):\n",
    "            ls.append([i, j])\n",
    "ls"
   ]
  },
  {
   "cell_type": "code",
   "execution_count": 1044,
   "id": "d1eebeb7",
   "metadata": {},
   "outputs": [
    {
     "data": {
      "text/plain": [
       "['TotRmsAbvGrd', 'GarageArea', 'TotalBsmtSF']"
      ]
     },
     "execution_count": 1044,
     "metadata": {},
     "output_type": "execute_result"
    }
   ],
   "source": [
    "ls_remove = []\n",
    "for pair in ls:\n",
    "    if corr[pair[0]] > corr[pair[1]]:\n",
    "        ls_remove.append(pair[1])\n",
    "    else:\n",
    "        ls_remove.append(pair[0])\n",
    "ls_remove"
   ]
  },
  {
   "cell_type": "code",
   "execution_count": 1045,
   "id": "5a3639e0",
   "metadata": {},
   "outputs": [
    {
     "data": {
      "text/plain": [
       "['OverallQual',\n",
       " 'GrLivArea',\n",
       " 'GarageCars',\n",
       " '1stFlrSF',\n",
       " 'ExterQual_TA',\n",
       " 'FullBath',\n",
       " 'KitchenQual_TA',\n",
       " 'YearBuilt',\n",
       " 'YearRemodAdd',\n",
       " 'SalePrice']"
      ]
     },
     "execution_count": 1045,
     "metadata": {},
     "output_type": "execute_result"
    }
   ],
   "source": [
    "for el in column_set:\n",
    "    if el in ls_remove:\n",
    "        column_set.remove(el)\n",
    "column_set.append('SalePrice')\n",
    "column_set"
   ]
  },
  {
   "cell_type": "code",
   "execution_count": 1046,
   "id": "4e276c84",
   "metadata": {},
   "outputs": [],
   "source": [
    "#delete columns with cross correlation\n",
    "df_train = pd.get_dummies(df_train)\n",
    "df_train = df_train[column_set]"
   ]
  },
  {
   "cell_type": "code",
   "execution_count": 1047,
   "id": "bb6d3cc2",
   "metadata": {},
   "outputs": [
    {
     "name": "stdout",
     "output_type": "stream",
     "text": [
      "<class 'pandas.core.frame.DataFrame'>\n",
      "Int64Index: 1460 entries, 1 to 1460\n",
      "Data columns (total 10 columns):\n",
      " #   Column          Non-Null Count  Dtype\n",
      "---  ------          --------------  -----\n",
      " 0   OverallQual     1460 non-null   int64\n",
      " 1   GrLivArea       1460 non-null   int64\n",
      " 2   GarageCars      1460 non-null   int64\n",
      " 3   1stFlrSF        1460 non-null   int64\n",
      " 4   ExterQual_TA    1460 non-null   uint8\n",
      " 5   FullBath        1460 non-null   int64\n",
      " 6   KitchenQual_TA  1460 non-null   uint8\n",
      " 7   YearBuilt       1460 non-null   int64\n",
      " 8   YearRemodAdd    1460 non-null   int64\n",
      " 9   SalePrice       1460 non-null   int64\n",
      "dtypes: int64(8), uint8(2)\n",
      "memory usage: 105.5 KB\n"
     ]
    }
   ],
   "source": [
    "df_train.info()"
   ]
  },
  {
   "cell_type": "code",
   "execution_count": 1048,
   "id": "7cd84f3d",
   "metadata": {},
   "outputs": [],
   "source": [
    "#delete columns with cross correlation\n",
    "column_set.remove('SalePrice')\n",
    "df_test = pd.get_dummies(df_test)\n",
    "df_test = df_test[column_set]"
   ]
  },
  {
   "cell_type": "code",
   "execution_count": 1049,
   "id": "e128b2fd",
   "metadata": {},
   "outputs": [
    {
     "name": "stdout",
     "output_type": "stream",
     "text": [
      "<class 'pandas.core.frame.DataFrame'>\n",
      "Int64Index: 1459 entries, 1461 to 2919\n",
      "Data columns (total 9 columns):\n",
      " #   Column          Non-Null Count  Dtype  \n",
      "---  ------          --------------  -----  \n",
      " 0   OverallQual     1459 non-null   int64  \n",
      " 1   GrLivArea       1459 non-null   int64  \n",
      " 2   GarageCars      1458 non-null   float64\n",
      " 3   1stFlrSF        1459 non-null   int64  \n",
      " 4   ExterQual_TA    1459 non-null   uint8  \n",
      " 5   FullBath        1459 non-null   int64  \n",
      " 6   KitchenQual_TA  1459 non-null   uint8  \n",
      " 7   YearBuilt       1459 non-null   int64  \n",
      " 8   YearRemodAdd    1459 non-null   int64  \n",
      "dtypes: float64(1), int64(6), uint8(2)\n",
      "memory usage: 94.0 KB\n"
     ]
    }
   ],
   "source": [
    "df_test.info()"
   ]
  },
  {
   "cell_type": "markdown",
   "id": "1f199515",
   "metadata": {},
   "source": [
    "**Обработка пропусков**"
   ]
  },
  {
   "cell_type": "markdown",
   "id": "c1c7973d",
   "metadata": {},
   "source": [
    "Единственный пропуск в новом датасете оказался лишь в переменной GarageCars тестовой выборки. Заменим его на модальное значение."
   ]
  },
  {
   "cell_type": "code",
   "execution_count": 1050,
   "id": "5c0a3776",
   "metadata": {},
   "outputs": [],
   "source": [
    "df_test['GarageCars'][df_test['GarageCars'] != df_test['GarageCars']] = df_test['GarageCars'].mode()[0]\n",
    "df_test['GarageCars'] = df_test['GarageCars'].astype('int')"
   ]
  },
  {
   "cell_type": "code",
   "execution_count": 1051,
   "id": "aaba144e",
   "metadata": {},
   "outputs": [
    {
     "name": "stdout",
     "output_type": "stream",
     "text": [
      "<class 'pandas.core.frame.DataFrame'>\n",
      "Int64Index: 1459 entries, 1461 to 2919\n",
      "Data columns (total 9 columns):\n",
      " #   Column          Non-Null Count  Dtype\n",
      "---  ------          --------------  -----\n",
      " 0   OverallQual     1459 non-null   int64\n",
      " 1   GrLivArea       1459 non-null   int64\n",
      " 2   GarageCars      1459 non-null   int64\n",
      " 3   1stFlrSF        1459 non-null   int64\n",
      " 4   ExterQual_TA    1459 non-null   uint8\n",
      " 5   FullBath        1459 non-null   int64\n",
      " 6   KitchenQual_TA  1459 non-null   uint8\n",
      " 7   YearBuilt       1459 non-null   int64\n",
      " 8   YearRemodAdd    1459 non-null   int64\n",
      "dtypes: int64(7), uint8(2)\n",
      "memory usage: 94.0 KB\n"
     ]
    }
   ],
   "source": [
    "df_test.info()"
   ]
  },
  {
   "cell_type": "markdown",
   "id": "a020f63f",
   "metadata": {},
   "source": [
    "## Исследовательский анализ данных"
   ]
  },
  {
   "cell_type": "markdown",
   "id": "ca6e8dcc",
   "metadata": {},
   "source": [
    "**SalePrice**"
   ]
  },
  {
   "cell_type": "code",
   "execution_count": 1052,
   "id": "1b2e8d3a",
   "metadata": {},
   "outputs": [
    {
     "data": {
      "image/png": "[encoded data removed]",
      "text/plain": [
       "<Figure size 432x288 with 1 Axes>"
      ]
     },
     "metadata": {
      "needs_background": "light"
     },
     "output_type": "display_data"
    }
   ],
   "source": [
    "sns.distplot(df_train['SalePrice'] , fit=norm);"
   ]
  },
  {
   "cell_type": "code",
   "execution_count": 1053,
   "id": "8f491e31",
   "metadata": {},
   "outputs": [
    {
     "name": "stdout",
     "output_type": "stream",
     "text": [
      "Skewness: 1.88\n",
      "Kurtosis: 6.54\n"
     ]
    }
   ],
   "source": [
    "print(f'Skewness: {df_train[\"SalePrice\"].skew():.2f}')\n",
    "print(f'Kurtosis: {df_train[\"SalePrice\"].kurt():.2f}')"
   ]
  },
  {
   "cell_type": "markdown",
   "id": "acb9fe6f",
   "metadata": {},
   "source": [
    "**Вывод**   \n",
    "Распределение целевой переменной имеет положительное смещение относительно нормального, а также является более пиковым. Логарифмирование переменной поможет приблизить распределение к нормальному."
   ]
  },
  {
   "cell_type": "code",
   "execution_count": 1054,
   "id": "1fc130ac",
   "metadata": {},
   "outputs": [
    {
     "data": {
      "image/png": "[encoded data removed]",
      "text/plain": [
       "<Figure size 432x288 with 1 Axes>"
      ]
     },
     "metadata": {
      "needs_background": "light"
     },
     "output_type": "display_data"
    }
   ],
   "source": [
    "df_train['SalePrice'] = np.log(df_train['SalePrice'])\n",
    "sns.distplot(df_train['SalePrice'], fit=norm);"
   ]
  },
  {
   "cell_type": "code",
   "execution_count": 1055,
   "id": "652836d8",
   "metadata": {},
   "outputs": [
    {
     "name": "stdout",
     "output_type": "stream",
     "text": [
      "Skewness: 0.12\n",
      "Kurtosis: 0.81\n"
     ]
    }
   ],
   "source": [
    "print(f'Skewness: {df_train[\"SalePrice\"].skew():.2f}')\n",
    "print(f'Kurtosis: {df_train[\"SalePrice\"].kurt():.2f}')"
   ]
  },
  {
   "cell_type": "markdown",
   "id": "23c2248f",
   "metadata": {},
   "source": [
    "**Проверка на соответствие нормальному распределению**"
   ]
  },
  {
   "cell_type": "code",
   "execution_count": 1056,
   "id": "06c328b3",
   "metadata": {},
   "outputs": [
    {
     "data": {
      "image/png": "[encoded data removed]",
      "text/plain": [
       "<Figure size 1152x1440 with 12 Axes>"
      ]
     },
     "metadata": {
      "needs_background": "light"
     },
     "output_type": "display_data"
    }
   ],
   "source": [
    "df_train.hist(figsize=(16, 20), bins=50, xlabelsize=8, ylabelsize=8);"
   ]
  },
  {
   "cell_type": "markdown",
   "id": "da437ba6",
   "metadata": {},
   "source": [
    "Переменные GrLiveArea, 1stFlrSf также имеют позитивное смещение. Применим к ним log-преобразование."
   ]
  },
  {
   "cell_type": "code",
   "execution_count": 1057,
   "id": "6fd5bb3a",
   "metadata": {},
   "outputs": [],
   "source": [
    "df_train['GrLivArea'] = np.log(df_train['GrLivArea'])\n",
    "df_test['GrLivArea'] = np.log(df_test['GrLivArea'])\n",
    "\n",
    "df_train['1stFlrSF'] = np.log(df_train['1stFlrSF'])\n",
    "df_test['1stFlrSF'] = np.log(df_test['1stFlrSF'])"
   ]
  },
  {
   "cell_type": "markdown",
   "id": "151ce011",
   "metadata": {},
   "source": [
    "Обратим внимание, что переменная YearRemodAdd имеет большое число наблюдений за 1950 год, что потенциально может означать все годы до этого периода. Для получения более устойчивой модели исключим данную переменную из анализа."
   ]
  },
  {
   "cell_type": "code",
   "execution_count": 1058,
   "id": "7f05cc1d",
   "metadata": {},
   "outputs": [],
   "source": [
    "df_train = df_train.drop(['YearRemodAdd'], axis=1)\n",
    "df_test = df_test.drop(['YearRemodAdd'], axis=1)"
   ]
  },
  {
   "cell_type": "markdown",
   "id": "3ca22c02",
   "metadata": {},
   "source": [
    "**Поиск выбросов**"
   ]
  },
  {
   "cell_type": "code",
   "execution_count": 1059,
   "id": "07d55ddb",
   "metadata": {},
   "outputs": [],
   "source": [
    "features = df_train.drop(['SalePrice'], axis=1)"
   ]
  },
  {
   "cell_type": "code",
   "execution_count": 1060,
   "id": "7352e005",
   "metadata": {},
   "outputs": [
    {
     "data": {
      "text/plain": [
       "['OverallQual',\n",
       " 'GrLivArea',\n",
       " 'GarageCars',\n",
       " '1stFlrSF',\n",
       " 'ExterQual_TA',\n",
       " 'FullBath',\n",
       " 'KitchenQual_TA',\n",
       " 'YearBuilt']"
      ]
     },
     "execution_count": 1060,
     "metadata": {},
     "output_type": "execute_result"
    }
   ],
   "source": [
    "ls = list(features.columns)\n",
    "ls"
   ]
  },
  {
   "cell_type": "code",
   "execution_count": 1061,
   "id": "aa3e6dfd",
   "metadata": {},
   "outputs": [
    {
     "data": {
      "image/png": "[encoded data removed]",
      "text/plain": [
       "<Figure size 720x180 with 4 Axes>"
      ]
     },
     "metadata": {
      "needs_background": "light"
     },
     "output_type": "display_data"
    },
    {
     "data": {
      "image/png": "[encoded data removed]",
      "text/plain": [
       "<Figure size 720x180 with 4 Axes>"
      ]
     },
     "metadata": {
      "needs_background": "light"
     },
     "output_type": "display_data"
    }
   ],
   "source": [
    "for i in range(0, len(df_train.columns)-1, 4):\n",
    "    sns.pairplot(data=df_train,\n",
    "                x_vars=df_train.columns[i:i+4],\n",
    "                y_vars=['SalePrice'])"
   ]
  },
  {
   "cell_type": "markdown",
   "id": "e3804fa1",
   "metadata": {},
   "source": [
    "**Вывод**   \n",
    "Исходя из анализа, нужно удалить следующие комбинации наблюдений:\n",
    "1. OverallQual < 5 & SalePrice > 12.3\n",
    "2. GrLivArea > 8.2 & Saleprice < 12.2\n",
    "3. 1stFlrSF > 8.2\n",
    "4. YearBuilt < 1900 & SalePrice > 12.2"
   ]
  },
  {
   "cell_type": "code",
   "execution_count": 1062,
   "id": "9fb10ad8",
   "metadata": {},
   "outputs": [
    {
     "data": {
      "text/plain": [
       "[584, 458, 524, 748, 305, 1299, 186]"
      ]
     },
     "execution_count": 1062,
     "metadata": {},
     "output_type": "execute_result"
    }
   ],
   "source": [
    "ls = []\n",
    "ls.extend(list(df_train[(df_train['OverallQual'] < 5) & (df_train['SalePrice'] > 12.3)].index))\n",
    "ls.extend(list(df_train[(df_train['GrLivArea'] > 8.2) & (df_train['SalePrice'] < 12.2)].index))\n",
    "ls.extend(list(df_train[df_train['1stFlrSF'] > 8.2].index))\n",
    "ls.extend(list(df_train[(df_train['YearBuilt'] < 1900) & (df_train['SalePrice'] > 12.2)].index))\n",
    "ls = list(set(ls))\n",
    "ls"
   ]
  },
  {
   "cell_type": "code",
   "execution_count": 1063,
   "id": "1be58406",
   "metadata": {},
   "outputs": [
    {
     "name": "stdout",
     "output_type": "stream",
     "text": [
      "<class 'pandas.core.frame.DataFrame'>\n",
      "RangeIndex: 1453 entries, 0 to 1452\n",
      "Data columns (total 9 columns):\n",
      " #   Column          Non-Null Count  Dtype  \n",
      "---  ------          --------------  -----  \n",
      " 0   OverallQual     1453 non-null   int64  \n",
      " 1   GrLivArea       1453 non-null   float64\n",
      " 2   GarageCars      1453 non-null   int64  \n",
      " 3   1stFlrSF        1453 non-null   float64\n",
      " 4   ExterQual_TA    1453 non-null   uint8  \n",
      " 5   FullBath        1453 non-null   int64  \n",
      " 6   KitchenQual_TA  1453 non-null   uint8  \n",
      " 7   YearBuilt       1453 non-null   int64  \n",
      " 8   SalePrice       1453 non-null   float64\n",
      "dtypes: float64(3), int64(4), uint8(2)\n",
      "memory usage: 82.4 KB\n"
     ]
    }
   ],
   "source": [
    "df_train = df_train[~df_train.index.isin(ls)]\n",
    "df_train = df_train.reset_index(drop=True)\n",
    "df_train.info()"
   ]
  },
  {
   "cell_type": "markdown",
   "id": "c4e17363",
   "metadata": {},
   "source": [
    "## Подбор модели"
   ]
  },
  {
   "cell_type": "code",
   "execution_count": 1064,
   "id": "40565623",
   "metadata": {
    "scrolled": true
   },
   "outputs": [
    {
     "data": {
      "text/plain": [
       "((1453, 8), (1453,), (1459, 8))"
      ]
     },
     "execution_count": 1064,
     "metadata": {},
     "output_type": "execute_result"
    }
   ],
   "source": [
    "X_train = df_train.drop(['SalePrice'], axis=1)\n",
    "y = df_train['SalePrice']\n",
    "X_test = df_test\n",
    "X_train.shape, y.shape, X_test.shape"
   ]
  },
  {
   "cell_type": "code",
   "execution_count": 1065,
   "id": "3046d6c5",
   "metadata": {},
   "outputs": [],
   "source": [
    "def estimate(model, X, y):\n",
    "    rmse = np.sqrt(cross_val_score(model, X, y, cv=5, scoring='neg_mean_squared_error')*(-1)).mean()\n",
    "    r2 = np.sqrt(cross_val_score(model, X, y, cv=5, scoring='r2')).mean()\n",
    "    print(f'RMSE - {rmse:.2f}')\n",
    "    print(f'R2 - {r2:.2f}')"
   ]
  },
  {
   "cell_type": "code",
   "execution_count": 1066,
   "id": "1cbf6566",
   "metadata": {},
   "outputs": [
    {
     "name": "stdout",
     "output_type": "stream",
     "text": [
      "RMSE - 0.16\n",
      "R2 - 0.92\n"
     ]
    }
   ],
   "source": [
    "#linear regression\n",
    "model = LinearRegression()\n",
    "estimate(model, X_train, y)"
   ]
  },
  {
   "cell_type": "code",
   "execution_count": 1067,
   "id": "55f700b7",
   "metadata": {},
   "outputs": [
    {
     "name": "stdout",
     "output_type": "stream",
     "text": [
      "RMSE - 0.16\n",
      "R2 - 0.92\n"
     ]
    }
   ],
   "source": [
    "#ridge regression\n",
    "alphas = [0.01, 0.03, 0.06, 0.1, 0.3, 0.6, 1, 3, 6, 10, 30, 60]\n",
    "min_score = 100\n",
    "for x in alphas:\n",
    "    model = Ridge(alpha=x)\n",
    "    rmse = np.sqrt(cross_val_score(model, X_train, y, cv=5, scoring='neg_mean_squared_error')*(-1)).mean()\n",
    "    if rmse < min_score:\n",
    "        min_score = rmse\n",
    "        best_alpha = x\n",
    "\n",
    "model = Ridge(alpha=best_alpha)\n",
    "estimate(model, X_train, y)"
   ]
  },
  {
   "cell_type": "code",
   "execution_count": 1068,
   "id": "6c10f58c",
   "metadata": {},
   "outputs": [
    {
     "name": "stdout",
     "output_type": "stream",
     "text": [
      "RMSE - 0.17\n",
      "R2 - 0.91\n"
     ]
    }
   ],
   "source": [
    "#lasso regression\n",
    "alphas = [0.01, 0.03, 0.06, 0.1, 0.3, 0.6, 1, 3, 6, 10, 30, 60]\n",
    "min_score = 100\n",
    "for x in alphas:\n",
    "    model = Lasso(alpha=x)\n",
    "    rmse = np.sqrt(cross_val_score(model, X_train, y, cv=5, scoring='neg_mean_squared_error')*(-1)).mean()\n",
    "    if rmse < min_score:\n",
    "        min_score = rmse\n",
    "        best_alpha = x\n",
    "\n",
    "model = Lasso(alpha=best_alpha)\n",
    "estimate(model, X_train, y)"
   ]
  },
  {
   "cell_type": "code",
   "execution_count": 1075,
   "id": "10bcc609",
   "metadata": {},
   "outputs": [
    {
     "name": "stdout",
     "output_type": "stream",
     "text": [
      "RMSE - 0.10\n"
     ]
    }
   ],
   "source": [
    "#CatBoostRegressor\n",
    "cv_dataset = Pool(data=X_train, label=y)\n",
    "\n",
    "params = {\n",
    "    'loss_function': 'RMSE',\n",
    "    'random_state': 7,\n",
    "    'verbose': 0,\n",
    "    'eval_metric' : 'RMSE',\n",
    "    }\n",
    "\n",
    "scores = cv(cv_dataset, params, fold_count=5, logging_level='Silent', as_pandas=True)\n",
    "score = scores['train-RMSE-mean'].min()\n",
    "print(f'RMSE - {score:.2f}')"
   ]
  },
  {
   "cell_type": "markdown",
   "id": "53b27c18",
   "metadata": {},
   "source": [
    "## Тест модели"
   ]
  },
  {
   "cell_type": "code",
   "execution_count": 1070,
   "id": "82fc345d",
   "metadata": {},
   "outputs": [],
   "source": [
    "model = CatBoostRegressor(**params)\n",
    "model.fit(X_train, y)\n",
    "pred = np.exp(model.predict(X_test))"
   ]
  },
  {
   "cell_type": "code",
   "execution_count": 1071,
   "id": "2246f222",
   "metadata": {},
   "outputs": [],
   "source": [
    "df = pd.DataFrame(pred, index=df_test.index)\n",
    "df.columns = ['SalePrice']"
   ]
  }
 ],
 "metadata": {
  "kernelspec": {
   "display_name": "Python 3",
   "language": "python",
   "name": "python3"
  },
  "language_info": {
   "codemirror_mode": {
    "name": "ipython",
    "version": 3
   },
   "file_extension": ".py",
   "mimetype": "text/x-python",
   "name": "python",
   "nbconvert_exporter": "python",
   "pygments_lexer": "ipython3",
   "version": "3.7.13"
  },
  "toc": {
   "base_numbering": 1,
   "nav_menu": {},
   "number_sections": true,
   "sideBar": true,
   "skip_h1_title": false,
   "title_cell": "Table of Contents",
   "title_sidebar": "Contents",
   "toc_cell": true,
   "toc_position": {},
   "toc_section_display": true,
   "toc_window_display": true
  }
 },
 "nbformat": 4,
 "nbformat_minor": 5
}
